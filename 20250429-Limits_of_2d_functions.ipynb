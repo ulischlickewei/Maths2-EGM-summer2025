{
 "cells": [
  {
   "cell_type": "code",
   "execution_count": 1,
   "id": "3b0c60ab-916d-497b-8fd8-109c913d82a3",
   "metadata": {},
   "outputs": [],
   "source": [
    "from sympy import *"
   ]
  },
  {
   "cell_type": "code",
   "execution_count": 2,
   "id": "aec84b80-9ddb-4829-90fc-e5971bf0366f",
   "metadata": {},
   "outputs": [
    {
     "data": {
      "text/latex": [
       "$\\displaystyle - \\frac{4 x^{3} y}{\\left(x^{2} + y^{2}\\right)^{2}}$"
      ],
      "text/plain": [
       "-4*x**3*y/(x**2 + y**2)**2"
      ]
     },
     "execution_count": 2,
     "metadata": {},
     "output_type": "execute_result"
    }
   ],
   "source": [
    "x,y = symbols('x,y')\n",
    "f = (-4*x**3 * y)/((x**2 + y**2)**2)\n",
    "f"
   ]
  },
  {
   "cell_type": "code",
   "execution_count": 3,
   "id": "758244c7-b080-4316-bafe-74ed52091c02",
   "metadata": {},
   "outputs": [
    {
     "ename": "AttributeError",
     "evalue": "module 'sympy.plotting' has no attribute 'contour_plot'",
     "output_type": "error",
     "traceback": [
      "\u001b[0;31m---------------------------------------------------------------------------\u001b[0m",
      "\u001b[0;31mAttributeError\u001b[0m                            Traceback (most recent call last)",
      "Cell \u001b[0;32mIn[3], line 1\u001b[0m\n\u001b[0;32m----> 1\u001b[0m \u001b[43mplotting\u001b[49m\u001b[38;5;241;43m.\u001b[39;49m\u001b[43mcontour_plot\u001b[49m(f,(x,\u001b[38;5;241m-\u001b[39m\u001b[38;5;241m1\u001b[39m,\u001b[38;5;241m1\u001b[39m),(y,\u001b[38;5;241m-\u001b[39m\u001b[38;5;241m1\u001b[39m,\u001b[38;5;241m1\u001b[39m))\n",
      "\u001b[0;31mAttributeError\u001b[0m: module 'sympy.plotting' has no attribute 'contour_plot'"
     ]
    }
   ],
   "source": [
    "plotting.contour_plot(f,(x,-1,1),(y,-1,1))"
   ]
  },
  {
   "cell_type": "code",
   "execution_count": null,
   "id": "3db5f15f-89cc-4947-84f5-473bc92509e8",
   "metadata": {},
   "outputs": [],
   "source": []
  }
 ],
 "metadata": {
  "kernelspec": {
   "display_name": "Python 3 (ipykernel)",
   "language": "python",
   "name": "python3"
  },
  "language_info": {
   "codemirror_mode": {
    "name": "ipython",
    "version": 3
   },
   "file_extension": ".py",
   "mimetype": "text/x-python",
   "name": "python",
   "nbconvert_exporter": "python",
   "pygments_lexer": "ipython3",
   "version": "3.9.7"
  }
 },
 "nbformat": 4,
 "nbformat_minor": 5
}
