{
 "cells": [
  {
   "cell_type": "code",
   "execution_count": 1,
   "id": "1e825a3d-7edb-485d-92e7-1f0c534c5261",
   "metadata": {},
   "outputs": [],
   "source": [
    "from sympy import *"
   ]
  },
  {
   "cell_type": "code",
   "execution_count": 2,
   "id": "59f4c264-f590-4bcc-bede-debb8e8ec1e9",
   "metadata": {},
   "outputs": [
    {
     "data": {
      "text/latex": [
       "$\\displaystyle \\left[\\begin{matrix}0 & 3 & -6 & 6 & 4 & -5\\\\3 & -7 & 8 & -5 & 8 & 9\\\\3 & -9 & 12 & -9 & 6 & 15\\end{matrix}\\right]$"
      ],
      "text/plain": [
       "Matrix([\n",
       "[0,  3, -6,  6, 4, -5],\n",
       "[3, -7,  8, -5, 8,  9],\n",
       "[3, -9, 12, -9, 6, 15]])"
      ]
     },
     "execution_count": 2,
     "metadata": {},
     "output_type": "execute_result"
    }
   ],
   "source": [
    "M = Matrix(\n",
    "    [[0, 3, -6, 6, 4, -5],\n",
    "    [3,-7,8,-5,8,9],\n",
    "    [3,-9,12,-9,6,15]\n",
    "    ]\n",
    ")\n",
    "M"
   ]
  },
  {
   "cell_type": "code",
   "execution_count": 3,
   "id": "9bc0af1b-c006-40ac-8f1b-dd79943d1aaf",
   "metadata": {},
   "outputs": [
    {
     "data": {
      "text/plain": [
       "(Matrix([\n",
       " [1, 0, -2, 3, 0, -24],\n",
       " [0, 1, -2, 2, 0,  -7],\n",
       " [0, 0,  0, 0, 1,   4]]),\n",
       " (0, 1, 4))"
      ]
     },
     "execution_count": 3,
     "metadata": {},
     "output_type": "execute_result"
    }
   ],
   "source": [
    "M.rref() #reduced row echelon form"
   ]
  },
  {
   "cell_type": "code",
   "execution_count": 6,
   "id": "f3d6761b-c373-4cfb-a97f-147711efe15e",
   "metadata": {},
   "outputs": [
    {
     "data": {
      "text/latex": [
       "$\\displaystyle \\left[\\begin{matrix}1 & 0 & -2 & 3 & 0 & -24\\\\0 & 1 & -2 & 2 & 0 & -7\\\\0 & 0 & 0 & 0 & 1 & 4\\end{matrix}\\right]$"
      ],
      "text/plain": [
       "Matrix([\n",
       "[1, 0, -2, 3, 0, -24],\n",
       "[0, 1, -2, 2, 0,  -7],\n",
       "[0, 0,  0, 0, 1,   4]])"
      ]
     },
     "execution_count": 6,
     "metadata": {},
     "output_type": "execute_result"
    }
   ],
   "source": [
    "M.rref()[0]"
   ]
  },
  {
   "cell_type": "code",
   "execution_count": null,
   "id": "54b048d3-f4ed-4602-bbfe-f305c19f44d8",
   "metadata": {},
   "outputs": [],
   "source": []
  }
 ],
 "metadata": {
  "kernelspec": {
   "display_name": "Python 3 (ipykernel)",
   "language": "python",
   "name": "python3"
  },
  "language_info": {
   "codemirror_mode": {
    "name": "ipython",
    "version": 3
   },
   "file_extension": ".py",
   "mimetype": "text/x-python",
   "name": "python",
   "nbconvert_exporter": "python",
   "pygments_lexer": "ipython3",
   "version": "3.9.7"
  }
 },
 "nbformat": 4,
 "nbformat_minor": 5
}
