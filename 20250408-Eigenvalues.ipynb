{
 "cells": [
  {
   "cell_type": "code",
   "execution_count": 1,
   "id": "100765bd-14ae-410e-934d-3ada879cbec3",
   "metadata": {},
   "outputs": [],
   "source": [
    "from sympy import *"
   ]
  },
  {
   "cell_type": "markdown",
   "id": "f023150d-ec39-4ddb-9098-bf433a6760f7",
   "metadata": {},
   "source": [
    "## Example on page 83"
   ]
  },
  {
   "cell_type": "code",
   "execution_count": 2,
   "id": "e018e4cb-08a3-44ff-a8c1-e91b8dd24e11",
   "metadata": {},
   "outputs": [
    {
     "data": {
      "text/latex": [
       "$\\displaystyle \\left[\\begin{matrix}6 & -3 & 1\\\\3 & 0 & 5\\\\2 & 2 & 6\\end{matrix}\\right]$"
      ],
      "text/plain": [
       "Matrix([\n",
       "[6, -3, 1],\n",
       "[3,  0, 5],\n",
       "[2,  2, 6]])"
      ]
     },
     "execution_count": 2,
     "metadata": {},
     "output_type": "execute_result"
    }
   ],
   "source": [
    "A = Matrix([\n",
    "    [6,-3,1],\n",
    "    [3,0,5],\n",
    "    [2,2,6]\n",
    "])\n",
    "A"
   ]
  },
  {
   "cell_type": "code",
   "execution_count": 3,
   "id": "75bb07ce-8172-45b5-8b82-18484b322fa0",
   "metadata": {},
   "outputs": [
    {
     "data": {
      "text/latex": [
       "$\\displaystyle \\left[\\begin{matrix}1 & -3 & 1\\\\3 & -5 & 5\\\\2 & 2 & 1\\end{matrix}\\right]$"
      ],
      "text/plain": [
       "Matrix([\n",
       "[1, -3, 1],\n",
       "[3, -5, 5],\n",
       "[2,  2, 1]])"
      ]
     },
     "execution_count": 3,
     "metadata": {},
     "output_type": "execute_result"
    }
   ],
   "source": [
    "B = A-5*eye(3)\n",
    "B"
   ]
  },
  {
   "cell_type": "code",
   "execution_count": 4,
   "id": "2fa8129f-4c96-4325-93e0-4e7eb225f950",
   "metadata": {},
   "outputs": [
    {
     "data": {
      "text/latex": [
       "$\\displaystyle -20$"
      ],
      "text/plain": [
       "-20"
      ]
     },
     "execution_count": 4,
     "metadata": {},
     "output_type": "execute_result"
    }
   ],
   "source": [
    "B.det()"
   ]
  },
  {
   "cell_type": "markdown",
   "id": "8b4758c4-be59-4293-913f-3bbe1c7cdf2a",
   "metadata": {},
   "source": [
    "## Example"
   ]
  },
  {
   "cell_type": "code",
   "execution_count": 5,
   "id": "53c38752-8f25-48f4-8cb7-ab7874a84f4b",
   "metadata": {},
   "outputs": [
    {
     "data": {
      "text/latex": [
       "$\\displaystyle \\left[\\begin{matrix}1 & 1 & 2\\\\0 & 1 & 3\\\\0 & 0 & 5\\end{matrix}\\right]$"
      ],
      "text/plain": [
       "Matrix([\n",
       "[1, 1, 2],\n",
       "[0, 1, 3],\n",
       "[0, 0, 5]])"
      ]
     },
     "execution_count": 5,
     "metadata": {},
     "output_type": "execute_result"
    }
   ],
   "source": [
    "A = Matrix([\n",
    "    [1,1,2],\n",
    "    [0,1,3],\n",
    "    [0,0,5]\n",
    "])\n",
    "A"
   ]
  },
  {
   "cell_type": "code",
   "execution_count": 6,
   "id": "033b129c-5838-45b0-bea8-45945db22d51",
   "metadata": {},
   "outputs": [
    {
     "data": {
      "text/plain": [
       "[(1,\n",
       "  2,\n",
       "  [Matrix([\n",
       "   [1],\n",
       "   [0],\n",
       "   [0]])]),\n",
       " (5,\n",
       "  1,\n",
       "  [Matrix([\n",
       "   [11/16],\n",
       "   [  3/4],\n",
       "   [    1]])])]"
      ]
     },
     "execution_count": 6,
     "metadata": {},
     "output_type": "execute_result"
    }
   ],
   "source": [
    "A.eigenvects()"
   ]
  },
  {
   "cell_type": "code",
   "execution_count": 11,
   "id": "a39ec2e4-78a2-4371-a0cf-883dfee12588",
   "metadata": {},
   "outputs": [
    {
     "data": {
      "text/latex": [
       "$\\displaystyle l^{3} - 7 l^{2} + 11 l - 5$"
      ],
      "text/plain": [
       "l**3 - 7*l**2 + 11*l - 5"
      ]
     },
     "execution_count": 11,
     "metadata": {},
     "output_type": "execute_result"
    }
   ],
   "source": [
    "l = symbols('l')\n",
    "# compute the characteristic polynomial and transform it into a regular SymPy expression\n",
    "P = A.charpoly(l).as_expr()\n",
    "P"
   ]
  },
  {
   "cell_type": "code",
   "execution_count": 12,
   "id": "850feb51-e0a3-4833-af86-1b75d560208f",
   "metadata": {},
   "outputs": [
    {
     "data": {
      "text/latex": [
       "$\\displaystyle \\left(l - 5\\right) \\left(l - 1\\right)^{2}$"
      ],
      "text/plain": [
       "(l - 5)*(l - 1)**2"
      ]
     },
     "execution_count": 12,
     "metadata": {},
     "output_type": "execute_result"
    }
   ],
   "source": [
    "factor(P)"
   ]
  },
  {
   "cell_type": "code",
   "execution_count": 13,
   "id": "f5462268-5d3d-48fb-bfd1-1038ed6e487c",
   "metadata": {},
   "outputs": [
    {
     "data": {
      "text/latex": [
       "$\\displaystyle \\left[\\begin{matrix}1 & 0 & 0\\\\0 & 1 & 0\\\\0 & 0 & 5\\end{matrix}\\right]$"
      ],
      "text/plain": [
       "Matrix([\n",
       "[1, 0, 0],\n",
       "[0, 1, 0],\n",
       "[0, 0, 5]])"
      ]
     },
     "execution_count": 13,
     "metadata": {},
     "output_type": "execute_result"
    }
   ],
   "source": [
    "B = Matrix([\n",
    "    [1,0,0],\n",
    "    [0,1,0],\n",
    "    [0,0,5]\n",
    "])\n",
    "B"
   ]
  },
  {
   "cell_type": "code",
   "execution_count": 14,
   "id": "eaf1df5b-1833-452f-8fd1-be8168835ca8",
   "metadata": {},
   "outputs": [
    {
     "data": {
      "text/plain": [
       "[(1,\n",
       "  2,\n",
       "  [Matrix([\n",
       "   [1],\n",
       "   [0],\n",
       "   [0]]),\n",
       "   Matrix([\n",
       "   [0],\n",
       "   [1],\n",
       "   [0]])]),\n",
       " (5,\n",
       "  1,\n",
       "  [Matrix([\n",
       "   [0],\n",
       "   [0],\n",
       "   [1]])])]"
      ]
     },
     "execution_count": 14,
     "metadata": {},
     "output_type": "execute_result"
    }
   ],
   "source": [
    "B.eigenvects()"
   ]
  },
  {
   "cell_type": "code",
   "execution_count": null,
   "id": "b60b429c-3a34-46f5-8a1e-d2364ddd35f4",
   "metadata": {},
   "outputs": [],
   "source": []
  }
 ],
 "metadata": {
  "kernelspec": {
   "display_name": "Python 3 (ipykernel)",
   "language": "python",
   "name": "python3"
  },
  "language_info": {
   "codemirror_mode": {
    "name": "ipython",
    "version": 3
   },
   "file_extension": ".py",
   "mimetype": "text/x-python",
   "name": "python",
   "nbconvert_exporter": "python",
   "pygments_lexer": "ipython3",
   "version": "3.9.7"
  }
 },
 "nbformat": 4,
 "nbformat_minor": 5
}
