{
 "cells": [
  {
   "cell_type": "code",
   "execution_count": 1,
   "id": "30e0717f-724d-4895-bcb0-e8ccc0fc6771",
   "metadata": {},
   "outputs": [],
   "source": [
    "from sympy import *"
   ]
  },
  {
   "cell_type": "markdown",
   "id": "166f378a-a9fe-4841-976c-344548f0fe25",
   "metadata": {},
   "source": [
    "## Matrices with complex eigenvalues"
   ]
  },
  {
   "cell_type": "code",
   "execution_count": 2,
   "id": "4c88934f-44dc-44e0-abf9-3ba4e030cfb6",
   "metadata": {},
   "outputs": [
    {
     "data": {
      "text/latex": [
       "$\\displaystyle \\left[\\begin{matrix}0 & 1\\\\-1 & 0\\end{matrix}\\right]$"
      ],
      "text/plain": [
       "Matrix([\n",
       "[ 0, 1],\n",
       "[-1, 0]])"
      ]
     },
     "execution_count": 2,
     "metadata": {},
     "output_type": "execute_result"
    }
   ],
   "source": [
    "A = Matrix([\n",
    "    [0,1],\n",
    "    [-1,0]\n",
    "])\n",
    "A"
   ]
  },
  {
   "cell_type": "code",
   "execution_count": 3,
   "id": "87d81ae1-17fa-4587-9eaa-96f769e2f3f1",
   "metadata": {},
   "outputs": [
    {
     "data": {
      "text/plain": [
       "[(-I,\n",
       "  1,\n",
       "  [Matrix([\n",
       "   [I],\n",
       "   [1]])]),\n",
       " (I,\n",
       "  1,\n",
       "  [Matrix([\n",
       "   [-I],\n",
       "   [ 1]])])]"
      ]
     },
     "execution_count": 3,
     "metadata": {},
     "output_type": "execute_result"
    }
   ],
   "source": [
    "A.eigenvects()"
   ]
  },
  {
   "cell_type": "code",
   "execution_count": 4,
   "id": "b41886c4-2d40-4d45-8463-23773b4811bf",
   "metadata": {},
   "outputs": [
    {
     "data": {
      "text/latex": [
       "$\\displaystyle \\left[\\begin{matrix}- i & 1 & 0\\\\-1 & - i & 0\\end{matrix}\\right]$"
      ],
      "text/plain": [
       "Matrix([\n",
       "[-I,  1, 0],\n",
       "[-1, -I, 0]])"
      ]
     },
     "execution_count": 4,
     "metadata": {},
     "output_type": "execute_result"
    }
   ],
   "source": [
    "B = Matrix([\n",
    "    [-I,1,0],\n",
    "    [-1,-I,0]\n",
    "])\n",
    "B"
   ]
  },
  {
   "cell_type": "code",
   "execution_count": 7,
   "id": "15e6c9b5-5b99-410b-a490-5408cf6da383",
   "metadata": {},
   "outputs": [
    {
     "data": {
      "text/latex": [
       "$\\displaystyle \\left[\\begin{matrix}1 & i & 0\\\\0 & 0 & 0\\end{matrix}\\right]$"
      ],
      "text/plain": [
       "Matrix([\n",
       "[1, I, 0],\n",
       "[0, 0, 0]])"
      ]
     },
     "execution_count": 7,
     "metadata": {},
     "output_type": "execute_result"
    }
   ],
   "source": [
    "B.rref()[0]"
   ]
  },
  {
   "cell_type": "code",
   "execution_count": null,
   "id": "b468cb3f-ef52-4831-8d91-e1540abd7d09",
   "metadata": {},
   "outputs": [],
   "source": []
  }
 ],
 "metadata": {
  "kernelspec": {
   "display_name": "Python 3 (ipykernel)",
   "language": "python",
   "name": "python3"
  },
  "language_info": {
   "codemirror_mode": {
    "name": "ipython",
    "version": 3
   },
   "file_extension": ".py",
   "mimetype": "text/x-python",
   "name": "python",
   "nbconvert_exporter": "python",
   "pygments_lexer": "ipython3",
   "version": "3.9.7"
  }
 },
 "nbformat": 4,
 "nbformat_minor": 5
}
