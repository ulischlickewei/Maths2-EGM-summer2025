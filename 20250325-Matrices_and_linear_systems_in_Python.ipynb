{
 "cells": [
  {
   "cell_type": "code",
   "execution_count": 1,
   "id": "f0740724-b8c4-4e7c-90e4-b092e8ad5026",
   "metadata": {},
   "outputs": [],
   "source": [
    "from sympy import *"
   ]
  },
  {
   "cell_type": "markdown",
   "id": "67da99d4-2e89-489a-b746-96c24f7b397e",
   "metadata": {},
   "source": [
    "## Matrices and vectors"
   ]
  },
  {
   "cell_type": "code",
   "execution_count": 2,
   "id": "1ac686fa-a04a-4a39-9987-fa0e4e32f45d",
   "metadata": {},
   "outputs": [
    {
     "data": {
      "text/latex": [
       "$\\displaystyle \\left[\\begin{matrix}1\\\\2\\\\3\\\\4\\end{matrix}\\right]$"
      ],
      "text/plain": [
       "Matrix([\n",
       "[1],\n",
       "[2],\n",
       "[3],\n",
       "[4]])"
      ]
     },
     "execution_count": 2,
     "metadata": {},
     "output_type": "execute_result"
    }
   ],
   "source": [
    "# create a vector v\n",
    "v = Matrix([1,2,3,4])\n",
    "v"
   ]
  },
  {
   "cell_type": "code",
   "execution_count": 3,
   "id": "c2c695f8-3b21-4f0a-922f-c371ed45c2fd",
   "metadata": {},
   "outputs": [
    {
     "data": {
      "text/latex": [
       "$\\displaystyle \\left[\\begin{matrix}2\\\\3\\\\1\\\\0\\end{matrix}\\right]$"
      ],
      "text/plain": [
       "Matrix([\n",
       "[2],\n",
       "[3],\n",
       "[1],\n",
       "[0]])"
      ]
     },
     "execution_count": 3,
     "metadata": {},
     "output_type": "execute_result"
    }
   ],
   "source": [
    "w = Matrix([2,3,1,0])\n",
    "w"
   ]
  },
  {
   "cell_type": "code",
   "execution_count": 4,
   "id": "a0f17c53-1391-40e1-8292-99fb8b3930d4",
   "metadata": {},
   "outputs": [
    {
     "data": {
      "text/latex": [
       "$\\displaystyle \\left[\\begin{matrix}3\\\\5\\\\4\\\\4\\end{matrix}\\right]$"
      ],
      "text/plain": [
       "Matrix([\n",
       "[3],\n",
       "[5],\n",
       "[4],\n",
       "[4]])"
      ]
     },
     "execution_count": 4,
     "metadata": {},
     "output_type": "execute_result"
    }
   ],
   "source": [
    "#add vectors\n",
    "v+w"
   ]
  },
  {
   "cell_type": "code",
   "execution_count": 5,
   "id": "46a91eb1-ae23-4b3c-b1cd-2644baeef4a8",
   "metadata": {},
   "outputs": [
    {
     "data": {
      "text/latex": [
       "$\\displaystyle \\left[\\begin{matrix}2\\\\4\\\\6\\\\8\\end{matrix}\\right]$"
      ],
      "text/plain": [
       "Matrix([\n",
       "[2],\n",
       "[4],\n",
       "[6],\n",
       "[8]])"
      ]
     },
     "execution_count": 5,
     "metadata": {},
     "output_type": "execute_result"
    }
   ],
   "source": [
    "#multiplication with a scalar\n",
    "2*v"
   ]
  },
  {
   "cell_type": "code",
   "execution_count": 6,
   "id": "623c5ab5-e41c-40f9-a178-dff59f938d89",
   "metadata": {},
   "outputs": [
    {
     "data": {
      "text/latex": [
       "$\\displaystyle 11$"
      ],
      "text/plain": [
       "11"
      ]
     },
     "execution_count": 6,
     "metadata": {},
     "output_type": "execute_result"
    }
   ],
   "source": [
    "#dot product / scalar product\n",
    "v.dot(w)"
   ]
  },
  {
   "cell_type": "code",
   "execution_count": 7,
   "id": "3ba4898c-1ae2-46b3-bfc5-5057ae517b95",
   "metadata": {},
   "outputs": [
    {
     "data": {
      "text/latex": [
       "$\\displaystyle \\sqrt{30}$"
      ],
      "text/plain": [
       "sqrt(30)"
      ]
     },
     "execution_count": 7,
     "metadata": {},
     "output_type": "execute_result"
    }
   ],
   "source": [
    "#norm of v = length\n",
    "v.norm()"
   ]
  },
  {
   "cell_type": "markdown",
   "id": "ad2cb640-dd60-45ce-9557-e4d7be4647ef",
   "metadata": {},
   "source": [
    "Angle between vectors v,w\n",
    "$$\\cos(\\varphi) = \\frac{v \\cdot w}{||v|| \\cdot ||w||}$$"
   ]
  },
  {
   "cell_type": "code",
   "execution_count": 9,
   "id": "26e54bfb-2db9-4a8d-9dae-bb03b1dfec2b",
   "metadata": {},
   "outputs": [
    {
     "data": {
      "text/latex": [
       "$\\displaystyle 1.00422172774856$"
      ],
      "text/plain": [
       "1.00422172774856"
      ]
     },
     "execution_count": 9,
     "metadata": {},
     "output_type": "execute_result"
    }
   ],
   "source": [
    "#to get phi\n",
    "acos(v.dot(w)/(v.norm() * w.norm())).evalf()"
   ]
  },
  {
   "cell_type": "markdown",
   "id": "ab3c5d0e-652e-4ed7-bbff-cb6b5e18a8e7",
   "metadata": {},
   "source": [
    "## Matrices\n",
    "When defining a matrix, we pass a list of lists. The \"inner\" lists contain the rows of my matrix."
   ]
  },
  {
   "cell_type": "code",
   "execution_count": 10,
   "id": "11178f47-e8d0-4fc6-b988-03e9406abb74",
   "metadata": {},
   "outputs": [
    {
     "data": {
      "text/latex": [
       "$\\displaystyle \\left[\\begin{matrix}1 & 2 & 3 & 4\\\\2 & 3 & 4 & 5\\end{matrix}\\right]$"
      ],
      "text/plain": [
       "Matrix([\n",
       "[1, 2, 3, 4],\n",
       "[2, 3, 4, 5]])"
      ]
     },
     "execution_count": 10,
     "metadata": {},
     "output_type": "execute_result"
    }
   ],
   "source": [
    "A = Matrix([[1,2,3,4],\n",
    "            [2,3,4,5]])\n",
    "A"
   ]
  },
  {
   "cell_type": "code",
   "execution_count": 11,
   "id": "06796f41-aed4-489c-8c06-6ba8cd22df5f",
   "metadata": {},
   "outputs": [
    {
     "data": {
      "text/latex": [
       "$\\displaystyle \\left[\\begin{matrix}0 & 1 & 2 & 3\\\\2 & 3 & -1 & 2\\end{matrix}\\right]$"
      ],
      "text/plain": [
       "Matrix([\n",
       "[0, 1,  2, 3],\n",
       "[2, 3, -1, 2]])"
      ]
     },
     "execution_count": 11,
     "metadata": {},
     "output_type": "execute_result"
    }
   ],
   "source": [
    "B = Matrix([[0,1,2,3],\n",
    "           [2,3,-1,2]])\n",
    "B"
   ]
  },
  {
   "cell_type": "code",
   "execution_count": 12,
   "id": "9b3c28a2-b141-46de-b713-9868085f5c00",
   "metadata": {},
   "outputs": [
    {
     "data": {
      "text/latex": [
       "$\\displaystyle \\left[\\begin{matrix}0 & 2\\\\1 & 3\\\\2 & -1\\\\3 & 2\\end{matrix}\\right]$"
      ],
      "text/plain": [
       "Matrix([\n",
       "[0,  2],\n",
       "[1,  3],\n",
       "[2, -1],\n",
       "[3,  2]])"
      ]
     },
     "execution_count": 12,
     "metadata": {},
     "output_type": "execute_result"
    }
   ],
   "source": [
    "#transpose B\n",
    "B.transpose()"
   ]
  },
  {
   "cell_type": "code",
   "execution_count": 13,
   "id": "25f55181-7040-49d8-8c01-dc44fa69cbfe",
   "metadata": {},
   "outputs": [
    {
     "data": {
      "text/latex": [
       "$\\displaystyle \\left[\\begin{matrix}20 & 13\\\\26 & 19\\end{matrix}\\right]$"
      ],
      "text/plain": [
       "Matrix([\n",
       "[20, 13],\n",
       "[26, 19]])"
      ]
     },
     "execution_count": 13,
     "metadata": {},
     "output_type": "execute_result"
    }
   ],
   "source": [
    "# Matrix product is computed using *\n",
    "A * B.transpose()"
   ]
  },
  {
   "cell_type": "code",
   "execution_count": 14,
   "id": "e788ae6e-9182-4507-9972-77ac94b6ce39",
   "metadata": {},
   "outputs": [
    {
     "data": {
      "text/latex": [
       "$\\displaystyle \\left[\\begin{matrix}1 & 2 & 3 & 4\\\\2 & 3 & 4 & 5\\end{matrix}\\right]$"
      ],
      "text/plain": [
       "Matrix([\n",
       "[1, 2, 3, 4],\n",
       "[2, 3, 4, 5]])"
      ]
     },
     "execution_count": 14,
     "metadata": {},
     "output_type": "execute_result"
    }
   ],
   "source": [
    "# Matrix-vector-products\n",
    "A"
   ]
  },
  {
   "cell_type": "code",
   "execution_count": 15,
   "id": "4e27236f-0651-4de5-8184-3e2cbe567a63",
   "metadata": {},
   "outputs": [
    {
     "data": {
      "text/latex": [
       "$\\displaystyle \\left[\\begin{matrix}1\\\\2\\\\3\\\\4\\end{matrix}\\right]$"
      ],
      "text/plain": [
       "Matrix([\n",
       "[1],\n",
       "[2],\n",
       "[3],\n",
       "[4]])"
      ]
     },
     "execution_count": 15,
     "metadata": {},
     "output_type": "execute_result"
    }
   ],
   "source": [
    "v"
   ]
  },
  {
   "cell_type": "code",
   "execution_count": 16,
   "id": "53cfd7e9-1bdd-486e-97b9-de017f25350b",
   "metadata": {},
   "outputs": [
    {
     "data": {
      "text/latex": [
       "$\\displaystyle \\left[\\begin{matrix}30\\\\40\\end{matrix}\\right]$"
      ],
      "text/plain": [
       "Matrix([\n",
       "[30],\n",
       "[40]])"
      ]
     },
     "execution_count": 16,
     "metadata": {},
     "output_type": "execute_result"
    }
   ],
   "source": [
    "A*v"
   ]
  },
  {
   "cell_type": "code",
   "execution_count": 17,
   "id": "1c20c3da-b4a0-47f8-9811-36e92ca43337",
   "metadata": {},
   "outputs": [
    {
     "data": {
      "text/latex": [
       "$\\displaystyle \\left[\\begin{matrix}1 & 0 & 0\\\\0 & 1 & 0\\\\0 & 0 & 1\\end{matrix}\\right]$"
      ],
      "text/plain": [
       "Matrix([\n",
       "[1, 0, 0],\n",
       "[0, 1, 0],\n",
       "[0, 0, 1]])"
      ]
     },
     "execution_count": 17,
     "metadata": {},
     "output_type": "execute_result"
    }
   ],
   "source": [
    "# identity matrix\n",
    "eye(3)"
   ]
  },
  {
   "cell_type": "code",
   "execution_count": 18,
   "id": "7ba806a2-f202-4559-aa70-4721d6ab0641",
   "metadata": {},
   "outputs": [
    {
     "data": {
      "text/latex": [
       "$\\displaystyle \\left[\\begin{matrix}43 & 19 & 96\\\\52 & 79 & 55\\\\10 & 69 & 96\\end{matrix}\\right]$"
      ],
      "text/plain": [
       "Matrix([\n",
       "[43, 19, 96],\n",
       "[52, 79, 55],\n",
       "[10, 69, 96]])"
      ]
     },
     "execution_count": 18,
     "metadata": {},
     "output_type": "execute_result"
    }
   ],
   "source": [
    "# multiply a random 3x3 matrix with the identity matrix\n",
    "C = randMatrix(3,3)\n",
    "C"
   ]
  },
  {
   "cell_type": "code",
   "execution_count": 19,
   "id": "f41a5616-5326-47f7-8547-ca6509611553",
   "metadata": {},
   "outputs": [
    {
     "data": {
      "text/latex": [
       "$\\displaystyle \\left[\\begin{matrix}43 & 19 & 96\\\\52 & 79 & 55\\\\10 & 69 & 96\\end{matrix}\\right]$"
      ],
      "text/plain": [
       "Matrix([\n",
       "[43, 19, 96],\n",
       "[52, 79, 55],\n",
       "[10, 69, 96]])"
      ]
     },
     "execution_count": 19,
     "metadata": {},
     "output_type": "execute_result"
    }
   ],
   "source": [
    "eye(3)*C"
   ]
  },
  {
   "cell_type": "code",
   "execution_count": 21,
   "id": "8b734f4f-c6b1-4576-9f2c-b83f94e94ed8",
   "metadata": {},
   "outputs": [
    {
     "data": {
      "text/latex": [
       "$\\displaystyle \\left[\\begin{matrix}43 & 19 & 96\\\\52 & 79 & 55\\\\10 & 69 & 96\\end{matrix}\\right]$"
      ],
      "text/plain": [
       "Matrix([\n",
       "[43, 19, 96],\n",
       "[52, 79, 55],\n",
       "[10, 69, 96]])"
      ]
     },
     "execution_count": 21,
     "metadata": {},
     "output_type": "execute_result"
    }
   ],
   "source": [
    "C*eye(3)"
   ]
  },
  {
   "cell_type": "markdown",
   "id": "6dd7f0cd-4324-4b9d-95d3-0798b53450f5",
   "metadata": {},
   "source": [
    "## Linear systems / row echelon form"
   ]
  },
  {
   "cell_type": "code",
   "execution_count": 22,
   "id": "a3021257-787a-47bf-843f-7db915528420",
   "metadata": {},
   "outputs": [
    {
     "data": {
      "text/latex": [
       "$\\displaystyle \\left[\\begin{matrix}2 & 3 & 4 & 5 & 6\\\\2 & -3 & -4 & -5 & 6\\\\0 & 0 & 2 & -2 & 3\\end{matrix}\\right]$"
      ],
      "text/plain": [
       "Matrix([\n",
       "[2,  3,  4,  5, 6],\n",
       "[2, -3, -4, -5, 6],\n",
       "[0,  0,  2, -2, 3]])"
      ]
     },
     "execution_count": 22,
     "metadata": {},
     "output_type": "execute_result"
    }
   ],
   "source": [
    "A = Matrix([[2,3,4,5,6],\n",
    "            [2,-3,-4,-5,6],\n",
    "            [0,0,2,-2,3]])\n",
    "A"
   ]
  },
  {
   "cell_type": "code",
   "execution_count": 23,
   "id": "6e8f12d5-6d03-4b06-9b76-41cecf125d2f",
   "metadata": {},
   "outputs": [
    {
     "data": {
      "text/plain": [
       "(Matrix([\n",
       " [1, 0, 0,  0,   3],\n",
       " [0, 1, 0,  3,  -2],\n",
       " [0, 0, 1, -1, 3/2]]),\n",
       " (0, 1, 2))"
      ]
     },
     "execution_count": 23,
     "metadata": {},
     "output_type": "execute_result"
    }
   ],
   "source": [
    "# reduced row echelon form\n",
    "A.rref()"
   ]
  },
  {
   "cell_type": "code",
   "execution_count": 24,
   "id": "9c1bac02-cbaa-4ae2-9a22-7ad9b880fcc9",
   "metadata": {},
   "outputs": [
    {
     "data": {
      "text/latex": [
       "$\\displaystyle \\left[\\begin{matrix}1 & 0 & 0 & 0 & 3\\\\0 & 1 & 0 & 3 & -2\\\\0 & 0 & 1 & -1 & \\frac{3}{2}\\end{matrix}\\right]$"
      ],
      "text/plain": [
       "Matrix([\n",
       "[1, 0, 0,  0,   3],\n",
       "[0, 1, 0,  3,  -2],\n",
       "[0, 0, 1, -1, 3/2]])"
      ]
     },
     "execution_count": 24,
     "metadata": {},
     "output_type": "execute_result"
    }
   ],
   "source": [
    "# Result of rref() is a tuple, first entry contains reduced \n",
    "# row echelon form\n",
    "A.rref()[0]"
   ]
  },
  {
   "cell_type": "code",
   "execution_count": 25,
   "id": "1e86cff0-ee89-4126-b808-b89cd170ba08",
   "metadata": {},
   "outputs": [
    {
     "data": {
      "text/plain": [
       "(0, 1, 2)"
      ]
     },
     "execution_count": 25,
     "metadata": {},
     "output_type": "execute_result"
    }
   ],
   "source": [
    "# Second entry of rref() result contains column indices of pivot positions\n",
    "A.rref()[1]"
   ]
  },
  {
   "cell_type": "code",
   "execution_count": 26,
   "id": "c5b6222d-0ee3-441c-a24e-2b64897ae9ca",
   "metadata": {},
   "outputs": [
    {
     "data": {
      "text/latex": [
       "$\\displaystyle \\left[\\begin{matrix}0 & 3 & -6 & 6 & 4 & -5\\\\3 & -7 & 8 & -5 & 8 & 9\\\\3 & -9 & 12 & -9 & 6 & 15\\end{matrix}\\right]$"
      ],
      "text/plain": [
       "Matrix([\n",
       "[0,  3, -6,  6, 4, -5],\n",
       "[3, -7,  8, -5, 8,  9],\n",
       "[3, -9, 12, -9, 6, 15]])"
      ]
     },
     "execution_count": 26,
     "metadata": {},
     "output_type": "execute_result"
    }
   ],
   "source": [
    "B = Matrix([[0,3,-6,6,4,-5],\n",
    "           [3,-7,8,-5,8,9],\n",
    "           [3,-9,12,-9,6,15]])\n",
    "B"
   ]
  },
  {
   "cell_type": "code",
   "execution_count": 27,
   "id": "98c4e042-cdbf-4182-baf3-3ca7e5e16f73",
   "metadata": {},
   "outputs": [
    {
     "data": {
      "text/plain": [
       "(Matrix([\n",
       " [1, 0, -2, 3, 0, -24],\n",
       " [0, 1, -2, 2, 0,  -7],\n",
       " [0, 0,  0, 0, 1,   4]]),\n",
       " (0, 1, 4))"
      ]
     },
     "execution_count": 27,
     "metadata": {},
     "output_type": "execute_result"
    }
   ],
   "source": [
    "B.rref()"
   ]
  },
  {
   "cell_type": "code",
   "execution_count": 28,
   "id": "4a10b4a4-2b71-4de6-a2f3-e0a548efbf13",
   "metadata": {},
   "outputs": [
    {
     "data": {
      "text/latex": [
       "$\\displaystyle \\left[\\begin{matrix}1 & 0 & -2 & 3 & 0 & -24\\\\0 & 1 & -2 & 2 & 0 & -7\\\\0 & 0 & 0 & 0 & 1 & 4\\end{matrix}\\right]$"
      ],
      "text/plain": [
       "Matrix([\n",
       "[1, 0, -2, 3, 0, -24],\n",
       "[0, 1, -2, 2, 0,  -7],\n",
       "[0, 0,  0, 0, 1,   4]])"
      ]
     },
     "execution_count": 28,
     "metadata": {},
     "output_type": "execute_result"
    }
   ],
   "source": [
    "B.rref()[0]"
   ]
  },
  {
   "cell_type": "markdown",
   "id": "58e13c49-779b-47af-bd8b-a73a8d54e9dc",
   "metadata": {},
   "source": [
    "**Exercise**:\n",
    "\n",
    "Let $$A = \\begin{pmatrix} 1 & 0 & 0 & 0 \\\\ 0 & 0 & 1 & 0 \\\\ 0 & 0 & 0 & a \\end{pmatrix}.$$\n",
    "Determine $a \\in \\mathbb{R}$ in such a way that the linear system corresponding to $A$ is solvable."
   ]
  },
  {
   "cell_type": "code",
   "execution_count": 30,
   "id": "adf46f68-8cb6-4def-8533-8e4f415b08a8",
   "metadata": {},
   "outputs": [
    {
     "data": {
      "text/latex": [
       "$\\displaystyle \\left[\\begin{matrix}1 & 0 & 0 & 0\\\\0 & 0 & 1 & 0\\\\0 & 0 & 0 & a\\end{matrix}\\right]$"
      ],
      "text/plain": [
       "Matrix([\n",
       "[1, 0, 0, 0],\n",
       "[0, 0, 1, 0],\n",
       "[0, 0, 0, a]])"
      ]
     },
     "execution_count": 30,
     "metadata": {},
     "output_type": "execute_result"
    }
   ],
   "source": [
    "a = symbols('a',Real=True)\n",
    "A = Matrix([[1,0,0,0],[0,0,1,0],[0,0,0,a]])\n",
    "A"
   ]
  },
  {
   "cell_type": "code",
   "execution_count": 32,
   "id": "725bff75-e319-494e-8845-7ad5d5e13c4b",
   "metadata": {},
   "outputs": [
    {
     "data": {
      "text/latex": [
       "$\\displaystyle \\left[\\begin{matrix}1 & 0 & 0 & 0\\\\0 & 0 & 1 & 0\\\\0 & 0 & 0 & 1\\end{matrix}\\right]$"
      ],
      "text/plain": [
       "Matrix([\n",
       "[1, 0, 0, 0],\n",
       "[0, 0, 1, 0],\n",
       "[0, 0, 0, 1]])"
      ]
     },
     "execution_count": 32,
     "metadata": {},
     "output_type": "execute_result"
    }
   ],
   "source": [
    "A.rref()[0]"
   ]
  },
  {
   "cell_type": "code",
   "execution_count": 33,
   "id": "d3563b87-abbd-4647-815d-381bdd57ca7c",
   "metadata": {},
   "outputs": [
    {
     "data": {
      "text/latex": [
       "$\\displaystyle \\left[\\begin{matrix}1 & 0 & 0 & 0\\\\0 & 0 & 1 & 0\\\\0 & 0 & 0 & a\\end{matrix}\\right]$"
      ],
      "text/plain": [
       "Matrix([\n",
       "[1, 0, 0, 0],\n",
       "[0, 0, 1, 0],\n",
       "[0, 0, 0, a]])"
      ]
     },
     "execution_count": 33,
     "metadata": {},
     "output_type": "execute_result"
    }
   ],
   "source": [
    "A.echelon_form()"
   ]
  },
  {
   "cell_type": "markdown",
   "id": "99af750d-2ce8-4cc6-a20f-20d8c039875e",
   "metadata": {},
   "source": [
    "Mathematically, the answer to the exercise is that the linear system is solvable if and only if $a=0$.\n",
    "\n",
    "\n",
    "Applying `rref()` to our matrix $A$ leads to a reduced row echelon form where the unkwown parameter $a$ has been lost. This might lead to unwanted conclusions. Therefore, it is recommended to use `echelon_form()` instead of `rref()` in case the matrix contains symbolic variables."
   ]
  },
  {
   "cell_type": "markdown",
   "id": "25899565-a00d-4ab8-8870-e452b2c66b12",
   "metadata": {},
   "source": [
    "## Exercise sheet 1, Ex 2"
   ]
  },
  {
   "cell_type": "code",
   "execution_count": 35,
   "id": "e000b4e3-70f7-47ba-ba6a-2de4ad1198ec",
   "metadata": {},
   "outputs": [
    {
     "data": {
      "text/latex": [
       "$\\displaystyle \\left[\\begin{matrix}1 & -1 & 0 & -3 & -1 & 0\\\\0 & 1 & 0 & -2 & 0 & 0\\\\0 & -4 & 1 & 0 & -2 & m_{3}\\\\0 & 0 & 0 & 1 & -2 & 0\\\\0 & 0 & 0 & 0 & 1 & m_{5}\\end{matrix}\\right]$"
      ],
      "text/plain": [
       "Matrix([\n",
       "[1, -1, 0, -3, -1,  0],\n",
       "[0,  1, 0, -2,  0,  0],\n",
       "[0, -4, 1,  0, -2, m3],\n",
       "[0,  0, 0,  1, -2,  0],\n",
       "[0,  0, 0,  0,  1, m5]])"
      ]
     },
     "execution_count": 35,
     "metadata": {},
     "output_type": "execute_result"
    }
   ],
   "source": [
    "m3 = symbols('m3')\n",
    "m5 = symbols('m5')\n",
    "M = Matrix([\n",
    "    [1,-1,0,-3,-1,0],\n",
    "    [0,1,0,-2,0,0],\n",
    "    [0,-4,1,0,-2,m3],\n",
    "    [0,0,0,1,-2,0],\n",
    "    [0,0,0,0,1,m5]\n",
    "])\n",
    "M"
   ]
  },
  {
   "cell_type": "code",
   "execution_count": 36,
   "id": "6a293025-ad31-4f5a-9a1b-647a61ed8494",
   "metadata": {},
   "outputs": [
    {
     "data": {
      "text/latex": [
       "$\\displaystyle \\left[\\begin{matrix}1 & -1 & 0 & -3 & -1 & 0\\\\0 & 1 & 0 & -2 & 0 & 0\\\\0 & 0 & 1 & -8 & -2 & m_{3}\\\\0 & 0 & 0 & 1 & -2 & 0\\\\0 & 0 & 0 & 0 & 1 & m_{5}\\end{matrix}\\right]$"
      ],
      "text/plain": [
       "Matrix([\n",
       "[1, -1, 0, -3, -1,  0],\n",
       "[0,  1, 0, -2,  0,  0],\n",
       "[0,  0, 1, -8, -2, m3],\n",
       "[0,  0, 0,  1, -2,  0],\n",
       "[0,  0, 0,  0,  1, m5]])"
      ]
     },
     "execution_count": 36,
     "metadata": {},
     "output_type": "execute_result"
    }
   ],
   "source": [
    "M.echelon_form()"
   ]
  },
  {
   "cell_type": "code",
   "execution_count": null,
   "id": "03cbb0cc-3e50-4a96-b53d-5e5157d79e43",
   "metadata": {},
   "outputs": [],
   "source": []
  }
 ],
 "metadata": {
  "kernelspec": {
   "display_name": "Python 3 (ipykernel)",
   "language": "python",
   "name": "python3"
  },
  "language_info": {
   "codemirror_mode": {
    "name": "ipython",
    "version": 3
   },
   "file_extension": ".py",
   "mimetype": "text/x-python",
   "name": "python",
   "nbconvert_exporter": "python",
   "pygments_lexer": "ipython3",
   "version": "3.9.7"
  }
 },
 "nbformat": 4,
 "nbformat_minor": 5
}
