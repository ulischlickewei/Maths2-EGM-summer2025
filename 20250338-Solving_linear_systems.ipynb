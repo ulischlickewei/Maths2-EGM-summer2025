{
 "cells": [
  {
   "cell_type": "code",
   "execution_count": 1,
   "id": "8476beca-088c-4a0c-81c3-b1a340d3b73b",
   "metadata": {},
   "outputs": [],
   "source": [
    "from sympy import *"
   ]
  },
  {
   "cell_type": "code",
   "execution_count": null,
   "id": "394bcefd-79b4-45cc-a50c-65fd2babe064",
   "metadata": {},
   "outputs": [],
   "source": []
  },
  {
   "cell_type": "code",
   "execution_count": 3,
   "id": "921fbeee-7e7e-49d9-b8c8-a4ae32c69ce3",
   "metadata": {},
   "outputs": [
    {
     "data": {
      "text/latex": [
       "$\\displaystyle \\left[\\begin{matrix}1 & 3 & 5 & -7\\\\-2 & 1 & 4 & 34\\end{matrix}\\right]$"
      ],
      "text/plain": [
       "Matrix([\n",
       "[ 1, 3, 5, -7],\n",
       "[-2, 1, 4, 34]])"
      ]
     },
     "execution_count": 3,
     "metadata": {},
     "output_type": "execute_result"
    }
   ],
   "source": [
    "A = Matrix(\n",
    "    [[1,3,5,-7],\n",
    "     [-2,1,4,34]]\n",
    ")\n",
    "A"
   ]
  },
  {
   "cell_type": "code",
   "execution_count": 5,
   "id": "e5c5e401-e0b0-47ba-a5da-41f18267740d",
   "metadata": {},
   "outputs": [
    {
     "data": {
      "text/latex": [
       "$\\displaystyle \\left[\\begin{matrix}1 & 0 & -1 & - \\frac{109}{7}\\\\0 & 1 & 2 & \\frac{20}{7}\\end{matrix}\\right]$"
      ],
      "text/plain": [
       "Matrix([\n",
       "[1, 0, -1, -109/7],\n",
       "[0, 1,  2,   20/7]])"
      ]
     },
     "execution_count": 5,
     "metadata": {},
     "output_type": "execute_result"
    }
   ],
   "source": [
    "A.rref()[0]"
   ]
  },
  {
   "cell_type": "markdown",
   "id": "963abbbe-a874-46fd-b820-d82e6fe156da",
   "metadata": {},
   "source": [
    "## Example page 47"
   ]
  },
  {
   "cell_type": "code",
   "execution_count": 6,
   "id": "63d39072-9df0-484d-a073-47d2e727323b",
   "metadata": {},
   "outputs": [
    {
     "data": {
      "text/latex": [
       "$\\displaystyle \\left[\\begin{matrix}0 & 0 & 1 & 1\\\\1 & 1 & 1 & 2\\\\1 & -1 & 1 & 4\\end{matrix}\\right]$"
      ],
      "text/plain": [
       "Matrix([\n",
       "[0,  0, 1, 1],\n",
       "[1,  1, 1, 2],\n",
       "[1, -1, 1, 4]])"
      ]
     },
     "execution_count": 6,
     "metadata": {},
     "output_type": "execute_result"
    }
   ],
   "source": [
    "B = Matrix([\n",
    "    [0,0,1,1],\n",
    "    [1,1,1,2],\n",
    "    [1,-1,1,4]\n",
    "])\n",
    "B"
   ]
  },
  {
   "cell_type": "code",
   "execution_count": 8,
   "id": "35148af6-2071-4670-ae96-c9e499337d9c",
   "metadata": {},
   "outputs": [
    {
     "data": {
      "text/latex": [
       "$\\displaystyle \\left[\\begin{matrix}1 & 0 & 0 & 2\\\\0 & 1 & 0 & -1\\\\0 & 0 & 1 & 1\\end{matrix}\\right]$"
      ],
      "text/plain": [
       "Matrix([\n",
       "[1, 0, 0,  2],\n",
       "[0, 1, 0, -1],\n",
       "[0, 0, 1,  1]])"
      ]
     },
     "execution_count": 8,
     "metadata": {},
     "output_type": "execute_result"
    }
   ],
   "source": [
    "B.rref()[0]"
   ]
  },
  {
   "cell_type": "code",
   "execution_count": null,
   "id": "f0cbb16d-eb42-46ff-b84a-251806f12be7",
   "metadata": {},
   "outputs": [],
   "source": []
  }
 ],
 "metadata": {
  "kernelspec": {
   "display_name": "Python 3 (ipykernel)",
   "language": "python",
   "name": "python3"
  },
  "language_info": {
   "codemirror_mode": {
    "name": "ipython",
    "version": 3
   },
   "file_extension": ".py",
   "mimetype": "text/x-python",
   "name": "python",
   "nbconvert_exporter": "python",
   "pygments_lexer": "ipython3",
   "version": "3.9.7"
  }
 },
 "nbformat": 4,
 "nbformat_minor": 5
}
